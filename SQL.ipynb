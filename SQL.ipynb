{
  "nbformat": 4,
  "nbformat_minor": 0,
  "metadata": {
    "colab": {
      "provenance": [],
      "authorship_tag": "ABX9TyM5r3Ry4DVojN6z5jptfccj",
      "include_colab_link": true
    },
    "kernelspec": {
      "name": "python3",
      "display_name": "Python 3"
    },
    "language_info": {
      "name": "python"
    }
  },
  "cells": [
    {
      "cell_type": "markdown",
      "metadata": {
        "id": "view-in-github",
        "colab_type": "text"
      },
      "source": [
        "<a href=\"https://colab.research.google.com/github/JulTob/SQL/blob/master/SQL.ipynb\" target=\"_parent\"><img src=\"https://colab.research.google.com/assets/colab-badge.svg\" alt=\"Open In Colab\"/></a>"
      ]
    },
    {
      "cell_type": "markdown",
      "source": [
        "# SQL\n",
        "SQL in Colab.\n",
        "\n",
        "\n",
        "\n",
        "\n"
      ],
      "metadata": {
        "id": "Qr3UVLQqMDPR"
      }
    },
    {
      "cell_type": "markdown",
      "metadata": {
        "id": "1ef3f045"
      },
      "source": [
        "# What are Databases and SQL?\n",
        "\n",
        "Imagine you have a massive collection of information, like all the books in a library, or all the customers of a store. How do you keep it organized so you can quickly find what you need, add new information, or update existing details? That's where **databases** come in!\n",
        "\n",
        "A database is essentially an organized collection of data. Think of it like a digital filing system that stores information in a structured way, usually in tables with rows and columns (like spreadsheets). This structure makes it easy to manage and work with large amounts of data efficiently.\n",
        "\n",
        "Now, how do you interact with this organized data? You use a language called **SQL** (Structured Query Language). SQL is the standard language for managing and manipulating relational databases. With SQL, you can:\n",
        "\n",
        "*   **Create** new databases and tables.\n",
        "*   **Insert** new data into tables.\n",
        "*   **Query** (ask questions of) the data to retrieve specific information.\n",
        "*   **Update** existing data.\n",
        "*   **Delete** data.\n",
        "\n",
        "In short, if a database is the organized filing system, SQL is the language you use to talk to the filing system and get things done!"
      ]
    },
    {
      "cell_type": "markdown",
      "metadata": {
        "id": "618c4ba4"
      },
      "source": [
        "**You** can use the `sqlite3` library to work with SQLite databases directly in Colab. SQLite is a filebased database, so you don't need a separate database server."
      ]
    },
    {
      "cell_type": "code",
      "metadata": {
        "id": "e680b0f3"
      },
      "source": [
        "import sqlite3\n",
        "import pandas as pd"
      ],
      "execution_count": 12,
      "outputs": []
    },
    {
      "cell_type": "markdown",
      "metadata": {
        "id": "386b834e"
      },
      "source": [
        "First, connect to a database. If the database file doesn't exist, it will be created.\n"
      ]
    },
    {
      "cell_type": "code",
      "metadata": {
        "id": "85a7dbed"
      },
      "source": [
        "conn = sqlite3.connect('my_database.db')\n",
        "cursor = conn.cursor()"
      ],
      "execution_count": 13,
      "outputs": []
    },
    {
      "cell_type": "markdown",
      "metadata": {
        "id": "6a4f511c"
      },
      "source": [
        "Now you can execute SQL commands.\n",
        "\n",
        "For example, let's create a table inside of our database, and insert some data."
      ]
    },
    {
      "cell_type": "markdown",
      "metadata": {
        "id": "1d6c0908"
      },
      "source": [
        "## Creating Tables\n",
        "\n",
        "To organize our data, we need to create tables in our database. The `CREATE TABLE` SQL statement is used for this purpose. When creating a table, you define:\n",
        "\n",
        "*   **Table Name:** A unique name for your table (e.g., `patrons`, `books`, `borrowed_books`).\n",
        "*   **Columns:** The individual data fields within each table. Each column needs:\n",
        "    *   **Column Name:** A descriptive name (e.g., `patron_id`, `name`, `title`, `borrow_date`).\n",
        "    *   **Data Type:** Specifies the type of data the column will hold (e.g., `INTEGER` for numbers, `TEXT` for strings, `REAL` for floating-point numbers). SQLite supports various data types.\n",
        "    *   **Constraints:** Rules that enforce data integrity and relationships. Common constraints include:\n",
        "        *   `PRIMARY KEY`: Uniquely identifies each row (as we discussed).\n",
        "        *   `NOT NULL`: Ensures that a column cannot contain a NULL value.\n",
        "        *   `UNIQUE`: Ensures that all values in a column are different.\n",
        "        *   `FOREIGN KEY`: Establishes a link between data in two tables.\n",
        "\n",
        "Here's the general syntax for creating a table:"
      ]
    },
    {
      "cell_type": "code",
      "metadata": {
        "colab": {
          "base_uri": "https://localhost:8080/",
          "height": 259
        },
        "collapsed": true,
        "id": "5a37c7b3",
        "outputId": "0bfbcbaf-5f1e-43f6-c407-36aaedbd3198"
      },
      "source": [
        "cursor.execute('''\n",
        "CREATE TABLE users (\n",
        "    id INTEGER PRIMARY KEY,\n",
        "    name TEXT NOT NULL,\n",
        "    age INTEGER\n",
        "    )\n",
        "    ''')\n",
        "conn.commit() # Pushes the data into the file, saving the results in long memory."
      ],
      "execution_count": 14,
      "outputs": [
        {
          "output_type": "error",
          "ename": "OperationalError",
          "evalue": "table users already exists",
          "traceback": [
            "\u001b[0;31m---------------------------------------------------------------------------\u001b[0m",
            "\u001b[0;31mOperationalError\u001b[0m                          Traceback (most recent call last)",
            "\u001b[0;32m/tmp/ipython-input-3388891110.py\u001b[0m in \u001b[0;36m<cell line: 0>\u001b[0;34m()\u001b[0m\n\u001b[0;32m----> 1\u001b[0;31m cursor.execute('''\n\u001b[0m\u001b[1;32m      2\u001b[0m CREATE TABLE users (\n\u001b[1;32m      3\u001b[0m     \u001b[0mid\u001b[0m \u001b[0mINTEGER\u001b[0m \u001b[0mPRIMARY\u001b[0m \u001b[0mKEY\u001b[0m\u001b[0;34m,\u001b[0m\u001b[0;34m\u001b[0m\u001b[0;34m\u001b[0m\u001b[0m\n\u001b[1;32m      4\u001b[0m     \u001b[0mname\u001b[0m \u001b[0mTEXT\u001b[0m \u001b[0mNOT\u001b[0m \u001b[0mNULL\u001b[0m\u001b[0;34m,\u001b[0m\u001b[0;34m\u001b[0m\u001b[0;34m\u001b[0m\u001b[0m\n\u001b[1;32m      5\u001b[0m     \u001b[0mage\u001b[0m \u001b[0mINTEGER\u001b[0m\u001b[0;34m\u001b[0m\u001b[0;34m\u001b[0m\u001b[0m\n",
            "\u001b[0;31mOperationalError\u001b[0m: table users already exists"
          ]
        }
      ]
    },
    {
      "cell_type": "markdown",
      "source": [
        "A table is a bit useless with no data inside. Let's write in some entries for our Users table"
      ],
      "metadata": {
        "id": "kTgw4G6VFA2_"
      }
    },
    {
      "cell_type": "code",
      "source": [
        "cursor.execute(\"INSERT INTO users (name, age) VALUES ('Alice', 30)\")\n",
        "cursor.execute(\"INSERT INTO users (name, age) VALUES ('Bob', 25)\")\n",
        "cursor.execute(\"INSERT INTO users (name, age) VALUES ('Charlie', 17)\")\n",
        "cursor.execute(\"INSERT INTO users (name, age) VALUES ('Diana', 27)\")\n",
        "cursor.execute(\"INSERT INTO users (name, age) VALUES ('Eren', 29)\")\n",
        "cursor.execute(\"INSERT INTO users (name, age) VALUES ('Frieren', 99)\")\n",
        "cursor.execute(\"INSERT INTO users (name, age) VALUES ('Gandalf', 2000)\")\n",
        "cursor.execute(\"INSERT INTO users (name, age) VALUES ('Harry', 17)\")\n",
        "cursor.execute(\"INSERT INTO users (name, age) VALUES ('Ichigo', 17)\")\n",
        "cursor.execute(\"INSERT INTO users (name, age) VALUES ('Jotaro', 17)\")\n",
        "cursor.execute(\"INSERT INTO users (name, age) VALUES ('Katniss', 16)\")\n",
        "cursor.execute(\"INSERT INTO users (name, age) VALUES ('Logan', 17)\")\n",
        "cursor.execute(\"INSERT INTO users (name, age) VALUES ('Mario', NULL)\") # Age can be unknown\n",
        "cursor.execute(\"INSERT INTO users (name, age) VALUES ('Naruto', 16)\")\n",
        "cursor.execute(\"INSERT INTO users (name, age) VALUES ('Ororo', 23)\")\n",
        "cursor.execute(\"INSERT INTO users (name, age) VALUES ('Peter', 16)\")\n",
        "cursor.execute(\"INSERT INTO users (name, age) VALUES ('Roronoa', 19)\")\n",
        "cursor.execute(\"INSERT INTO users (name, age) VALUES ('Sakura', 16)\")\n",
        "cursor.execute(\"INSERT INTO users (name, age) VALUES ('Tintin', 25)\")\n",
        "cursor.execute(\"INSERT INTO users (name, age) VALUES ('Usopp', 17)\")\n",
        "cursor.execute(\"INSERT INTO users (name, age) VALUES ('Velma', 23)\")\n",
        "cursor.execute(\"INSERT INTO users (name, age) VALUES ('Willow', 35)\")\n",
        "cursor.execute(\"INSERT INTO users (name, age) VALUES ('Xena', 31)\")\n",
        "cursor.execute(\"INSERT INTO users (name, age) VALUES ('Yoshi', 6)\")\n",
        "cursor.execute(\"INSERT INTO users (name, age) VALUES ('Zuko', 13)\")\n",
        "\n",
        "conn.commit() # Save the changes"
      ],
      "metadata": {
        "id": "BSjbgyHvFAQ8"
      },
      "execution_count": null,
      "outputs": []
    },
    {
      "cell_type": "markdown",
      "metadata": {
        "id": "49986c14"
      },
      "source": [
        "You can now consult (query) the data and extract (fetch) the results."
      ]
    },
    {
      "cell_type": "code",
      "source": [
        "cursor.execute(\"\"\"\n",
        "  SELECT *\n",
        "    FROM users;\n",
        "  \"\"\")"
      ],
      "metadata": {
        "colab": {
          "base_uri": "https://localhost:8080/"
        },
        "id": "eKKnhup0I8K6",
        "outputId": "c32a30e9-7f9f-43c9-b456-dc6dc4c98b0e"
      },
      "execution_count": 16,
      "outputs": [
        {
          "output_type": "execute_result",
          "data": {
            "text/plain": [
              "<sqlite3.Cursor at 0x7f1fb8542fc0>"
            ]
          },
          "metadata": {},
          "execution_count": 16
        }
      ]
    },
    {
      "cell_type": "code",
      "source": [],
      "metadata": {
        "id": "te6tfFPL8_G5"
      },
      "execution_count": null,
      "outputs": []
    },
    {
      "cell_type": "markdown",
      "metadata": {
        "id": "afe6bb03"
      },
      "source": [
        "### Why isn't the `id` included in the `INSERT` statement?\n",
        "\n",
        "In the `CREATE TABLE` statement for the `users` table, we defined the `id` column as `INTEGER PRIMARY KEY`. In SQLite, when you declare a column as `INTEGER PRIMARY KEY`, it automatically becomes an alias for the `ROWID`. This means SQLite will automatically assign a unique, incremental integer value to this column for each new row inserted into the table.\n",
        "\n",
        "So, you don't need to provide a value for the `id` column in your `INSERT` statements. SQLite handles it for you automatically, ensuring that each user has a unique identifier."
      ]
    },
    {
      "cell_type": "markdown",
      "metadata": {
        "id": "0b9cdc2b"
      },
      "source": [
        "## Understanding Primary Keys\n",
        "\n",
        "A **Primary Key** is a column or a set of columns in a database table that uniquely identifies each row (or record) in that table. Think of it like a unique ID number for each entry.\n",
        "\n",
        "Here's why Primary Keys are important:\n",
        "\n",
        "*   **Unique Identification:** They ensure that every row in the table can be uniquely identified, preventing duplicate records.\n",
        "*   **Data Integrity:** They help maintain the integrity of the data by providing a reliable way to reference specific rows.\n",
        "*   **Relationships:** They are crucial for establishing relationships between different tables in a database (as we saw with the `patron_id` and `book_id` in the `borrowed_books` table referencing the `patrons` and `books` tables).\n",
        "\n",
        "In our library database example, `patron_id` in the `patrons` table and `book_id` in the `books` table are Primary Keys. Each patron has a unique `patron_id`, and each book has a unique `book_id`."
      ]
    },
    {
      "cell_type": "markdown",
      "metadata": {
        "id": "12b5434c"
      },
      "source": [
        "# Let's dive into SQL in Colab!\n",
        "\n",
        "Have you ever wanted to organize and manage data in a structured way? That's where databases come in, and SQL (Structured Query Language) is the language we use to talk to them! In this Colab notebook, we'll explore how to use SQL right here, without needing any extra software."
      ]
    },
    {
      "cell_type": "markdown",
      "metadata": {
        "id": "8bbbd5a2"
      },
      "source": [
        "The good news is that Python has a built-in library called `sqlite3` that lets us work with SQLite databases. Think of SQLite as a mini-database that lives in a single file (or even just in your computer's memory!). This makes it super convenient for learning and working with smaller datasets directly in Colab."
      ]
    },
    {
      "cell_type": "markdown",
      "metadata": {
        "id": "081ea237"
      },
      "source": [
        "## Connecting to our Database\n",
        "\n",
        "Before we can start organizing data, we need to connect to our database. Imagine this like opening a specific filing cabinet where we'll store our information.\n",
        "\n",
        "When we connect, if the database file doesn't exist yet, `sqlite3` will kindly create it for us. We can even create a temporary database that only exists while our notebook is running by using `:memory:`."
      ]
    },
    {
      "cell_type": "markdown",
      "metadata": {
        "id": "32975360"
      },
      "source": [
        "## Giving Instructions with SQL\n",
        "\n",
        "Now that we're connected, we can start giving our database instructions using SQL commands! This is where we tell it to create spaces for our data (tables) and put the actual information in (insert data)."
      ]
    },
    {
      "cell_type": "markdown",
      "metadata": {
        "id": "7aa9f9f8"
      },
      "source": [
        "## Building our Tables\n",
        "\n",
        "Think of tables as spreadsheets within our database. Each table will hold a specific type of information, like a list of users, or a list of books in a library. To create a table, we use the `CREATE TABLE` command.\n",
        "\n",
        "When we create a table, we need to decide:\n",
        "\n",
        "*   **What to call the table:** A clear and descriptive name (like `users`, `books`, or `patrons`).\n",
        "*   **What information goes in each row (Columns):** These are like the columns in a spreadsheet. For each column, we need to specify:\n",
        "    *   **A name for the column:** What kind of data will be in this column (e.g., `name`, `age`, `title`).\n",
        "    *   **The type of data:** Is it text (`TEXT`), a whole number (`INTEGER`), a number with decimals (`REAL`), etc.? SQLite is flexible with data types.\n",
        "    *   **Any special rules (Constraints):** These are like rules to keep our data tidy and accurate. Some common ones are:\n",
        "        *   `PRIMARY KEY`: This column will have a unique value for every single row – like a student ID number!\n",
        "        *   `NOT NULL`: This column *must* have a value; it can't be left empty.\n",
        "        *   `UNIQUE`: Every value in this column must be different from the others.\n",
        "        *   `FOREIGN KEY`: This links a column in this table to a column in *another* table, showing how they relate (like linking a borrowed book back to the patron who borrowed it).\n",
        "\n",
        "Here's the basic recipe for creating a table:"
      ]
    },
    {
      "cell_type": "markdown",
      "metadata": {
        "id": "c8bbb572"
      },
      "source": [
        "## Asking Questions with SQL (Querying)\n",
        "\n",
        "Once we have data in our tables, we'll want to retrieve it or ask questions about it. This is called querying, and we use the `SELECT` command for this. We can specify which columns we want to see and from which table.\n",
        "\n",
        "After executing a `SELECT` query, we can fetch the results. `cursor.fetchall()` is like asking for all the rows that match our query."
      ]
    },
    {
      "cell_type": "markdown",
      "metadata": {
        "id": "9f30c6e3"
      },
      "source": [
        "## Adding Data from Pandas\n",
        "\n",
        "If you're working with data in a pandas DataFrame, you can easily load that data into your SQLite database. This is super handy if you've already processed or cleaned your data using pandas. The `to_sql()` method makes this a breeze!"
      ]
    },
    {
      "cell_type": "markdown",
      "metadata": {
        "id": "69275fe6"
      },
      "source": [
        "## Closing the Connection\n",
        "\n",
        "When you're finished working with the database, it's good practice to close the connection. This is like properly closing that filing cabinet we talked about earlier. It frees up resources and ensures everything is saved correctly."
      ]
    },
    {
      "cell_type": "code",
      "metadata": {
        "id": "ab589dd8"
      },
      "source": [
        "cursor.execute(\"SELECT * FROM users\")\n",
        "rows = cursor.fetchall()\n",
        "\n",
        "for row in rows:\n",
        "    print(row)"
      ],
      "execution_count": null,
      "outputs": []
    },
    {
      "cell_type": "code",
      "source": [],
      "metadata": {
        "id": "94ka5qyIDDpz"
      },
      "execution_count": null,
      "outputs": []
    },
    {
      "cell_type": "markdown",
      "metadata": {
        "id": "9b0cd36f"
      },
      "source": [
        "You can also load data from a pandas DataFrame into the database."
      ]
    },
    {
      "cell_type": "code",
      "metadata": {
        "id": "03366a43"
      },
      "source": [
        "data = {'name': ['Charlie', 'David'], 'age': [35, 40]}\n",
        "df = pd.DataFrame(data)\n",
        "\n",
        "df.to_sql('users', conn, if_exists='append', index=False)\n",
        "\n",
        "cursor.execute(\"SELECT * FROM users\")\n",
        "rows = cursor.fetchall()\n",
        "\n",
        "for row in rows:\n",
        "    print(row)"
      ],
      "execution_count": null,
      "outputs": []
    },
    {
      "cell_type": "markdown",
      "metadata": {
        "id": "edbb3ff3"
      },
      "source": [
        "Remember to close the connection when you're done."
      ]
    },
    {
      "cell_type": "code",
      "metadata": {
        "id": "208bda92"
      },
      "source": [
        "conn.close()"
      ],
      "execution_count": null,
      "outputs": []
    },
    {
      "cell_type": "markdown",
      "metadata": {
        "id": "7a4baf32"
      },
      "source": [
        "# Task\n",
        "Explain how to use SQL in Colab by creating a library database with tables for patrons, books, and borrowed books, and demonstrate querying the data."
      ]
    },
    {
      "cell_type": "code",
      "metadata": {
        "id": "2b19b197"
      },
      "source": [
        "cursor.execute('''\n",
        "SELECT\n",
        "    p.name AS patron_name,\n",
        "    bb.patron_id\n",
        "FROM\n",
        "    borrowed_books bb\n",
        "JOIN\n",
        "    patrons p ON bb.patron_id = p.patron_id\n",
        "''')\n",
        "\n",
        "patrons_borrowed = cursor.fetchall()\n",
        "\n",
        "for row in patrons_borrowed:\n",
        "    print(row)"
      ],
      "execution_count": null,
      "outputs": []
    },
    {
      "cell_type": "code",
      "metadata": {
        "id": "723e3ab1"
      },
      "source": [
        "conn = sqlite3.connect('library.db')\n",
        "cursor = conn.cursor()"
      ],
      "execution_count": null,
      "outputs": []
    },
    {
      "cell_type": "markdown",
      "metadata": {
        "id": "c8e4f8d1"
      },
      "source": [
        "# Task\n",
        "Explain how to use SQL in Colab by creating a library database with tables for patrons, books, and borrowed books, and demonstrate querying the data."
      ]
    },
    {
      "cell_type": "markdown",
      "metadata": {
        "id": "f9c521f8"
      },
      "source": [
        "## Connect to database\n",
        "\n",
        "### Subtask:\n",
        "Establish a connection to a new SQLite database file for the library."
      ]
    },
    {
      "cell_type": "markdown",
      "metadata": {
        "id": "0cac6216"
      },
      "source": [
        "**Reasoning**:\n",
        "Import the `sqlite3` library, connect to the database, and create a cursor."
      ]
    },
    {
      "cell_type": "markdown",
      "metadata": {
        "id": "3d34d9f5"
      },
      "source": [
        "## Create tables\n",
        "\n",
        "### Subtask:\n",
        "Define and create the `patrons`, `books`, and `borrowed_books` tables with appropriate columns and data types, including foreign key constraints for the `borrowed_books` table to link to `patrons` and `books`."
      ]
    },
    {
      "cell_type": "markdown",
      "metadata": {
        "id": "70f0d46d"
      },
      "source": [
        "**Reasoning**:\n",
        "Create the patrons, books, and borrowed_books tables with appropriate columns and foreign key constraints."
      ]
    },
    {
      "cell_type": "markdown",
      "metadata": {
        "id": "dcde6d3e"
      },
      "source": [
        "## Insert data\n",
        "\n",
        "### Subtask:\n",
        "Add some sample data into the `patrons` and `books` tables."
      ]
    },
    {
      "cell_type": "markdown",
      "metadata": {
        "id": "197eebf0"
      },
      "source": [
        "**Reasoning**:\n",
        "Insert sample data into the patrons and books tables and commit the changes."
      ]
    },
    {
      "cell_type": "markdown",
      "metadata": {
        "id": "b1f65bf9"
      },
      "source": [
        "## Insert borrowed books data\n",
        "\n",
        "### Subtask:\n",
        "Add some sample data into the `borrowed_books` table, ensuring the foreign key constraints are satisfied."
      ]
    },
    {
      "cell_type": "markdown",
      "metadata": {
        "id": "9df61c4e"
      },
      "source": [
        "**Reasoning**:\n",
        "Insert sample data into the borrowed_books table, ensuring the foreign key constraints are satisfied by using existing patron_id and book_id values, and then commit the changes."
      ]
    },
    {
      "cell_type": "markdown",
      "metadata": {
        "id": "919ea9d5"
      },
      "source": [
        "## Query data\n",
        "\n",
        "### Subtask:\n",
        "Write and execute SQL queries to demonstrate the relationships between the tables, for example, listing which books a specific patron has borrowed."
      ]
    },
    {
      "cell_type": "markdown",
      "metadata": {
        "id": "41228a43"
      },
      "source": [
        "**Reasoning**:\n",
        "Write and execute a SQL query to join the tables and list borrowed books, then fetch and display the results."
      ]
    },
    {
      "cell_type": "markdown",
      "metadata": {
        "id": "ea2c5b20"
      },
      "source": [
        "## Close connection\n",
        "\n",
        "### Subtask:\n",
        "Close the database connection."
      ]
    },
    {
      "cell_type": "markdown",
      "metadata": {
        "id": "8dab8312"
      },
      "source": [
        "**Reasoning**:\n",
        "Call the close method on the database connection object to close the connection."
      ]
    },
    {
      "cell_type": "markdown",
      "metadata": {
        "id": "fa0c9dea"
      },
      "source": [
        "## Connect to database\n",
        "\n",
        "### Subtask:\n",
        "Establish a connection to a new SQLite database file for the library.\n"
      ]
    },
    {
      "cell_type": "markdown",
      "metadata": {
        "id": "e8a90589"
      },
      "source": [
        "**Reasoning**:\n",
        "Import the `sqlite3` library, connect to the database, and create a cursor.\n",
        "\n"
      ]
    },
    {
      "cell_type": "code",
      "metadata": {
        "id": "fc351dc5"
      },
      "source": [
        "import sqlite3\n",
        "\n",
        "conn = sqlite3.connect('library.db')\n",
        "cursor = conn.cursor()"
      ],
      "execution_count": null,
      "outputs": []
    },
    {
      "cell_type": "markdown",
      "metadata": {
        "id": "390bd8a3"
      },
      "source": [
        "## Create tables\n",
        "\n",
        "### Subtask:\n",
        "Define and create the `patrons`, `books`, and `borrowed_books` tables with appropriate columns and data types, including foreign key constraints for the `borrowed_books` table to link to `patrons` and `books`.\n"
      ]
    },
    {
      "cell_type": "markdown",
      "metadata": {
        "id": "899178e4"
      },
      "source": [
        "**Reasoning**:\n",
        "Create the patrons, books, and borrowed_books tables with appropriate columns and foreign key constraints.\n",
        "\n"
      ]
    },
    {
      "cell_type": "code",
      "metadata": {
        "id": "3f7f8e13"
      },
      "source": [
        "cursor.execute('''\n",
        "CREATE TABLE patrons (\n",
        "    patron_id INTEGER PRIMARY KEY,\n",
        "    name TEXT NOT NULL,\n",
        "    email TEXT\n",
        ")\n",
        "''')\n",
        "\n",
        "cursor.execute('''\n",
        "CREATE TABLE books (\n",
        "    book_id INTEGER PRIMARY KEY,\n",
        "    title TEXT NOT NULL,\n",
        "    author TEXT,\n",
        "    isbn TEXT UNIQUE\n",
        ")\n",
        "''')\n",
        "\n",
        "cursor.execute('''\n",
        "CREATE TABLE borrowed_books (\n",
        "    borrow_id INTEGER PRIMARY KEY,\n",
        "    patron_id INTEGER,\n",
        "    book_id INTEGER,\n",
        "    borrow_date TEXT,\n",
        "    FOREIGN KEY (patron_id) REFERENCES patrons(patron_id),\n",
        "    FOREIGN KEY (book_id) REFERENCES books(book_id)\n",
        ")\n",
        "''')\n",
        "\n",
        "conn.commit()"
      ],
      "execution_count": null,
      "outputs": []
    },
    {
      "cell_type": "markdown",
      "metadata": {
        "id": "5f48ebb8"
      },
      "source": [
        "## Insert data\n",
        "\n",
        "### Subtask:\n",
        "Add some sample data into the `patrons` and `books` tables.\n"
      ]
    },
    {
      "cell_type": "markdown",
      "metadata": {
        "id": "2786a296"
      },
      "source": [
        "**Reasoning**:\n",
        "Insert sample data into the patrons and books tables and commit the changes.\n",
        "\n"
      ]
    },
    {
      "cell_type": "code",
      "metadata": {
        "id": "ef57cac4"
      },
      "source": [
        "cursor.execute(\"INSERT INTO patrons (name, email) VALUES ('John Doe', 'john.doe@example.com')\")\n",
        "cursor.execute(\"INSERT INTO patrons (name) VALUES ('Jane Smith')\")\n",
        "\n",
        "cursor.execute(\"INSERT INTO books (title, author, isbn) VALUES ('The Hitchhiker''s Guide to the Galaxy', 'Douglas Adams', '978-0345391803')\")\n",
        "cursor.execute(\"INSERT INTO books (title, author, isbn) VALUES ('Pride and Prejudice', 'Jane Austen', '978-0141439518')\")\n",
        "cursor.execute(\"INSERT INTO books (title, author, isbn) VALUES ('1984', 'George Orwell', '978-0451524935')\")\n",
        "cursor.execute(\"INSERT INTO books (title, author, isbn) VALUES ('To Kill a Mockingbird', 'Harper Lee', '978-0061120084')\")\n",
        "\n",
        "\n",
        "conn.commit()"
      ],
      "execution_count": null,
      "outputs": []
    },
    {
      "cell_type": "markdown",
      "metadata": {
        "id": "e800f611"
      },
      "source": [
        "## Insert borrowed books data\n",
        "\n",
        "### Subtask:\n",
        "Add some sample data into the `borrowed_books` table, ensuring the foreign key constraints are satisfied.\n"
      ]
    },
    {
      "cell_type": "markdown",
      "metadata": {
        "id": "b9f1c496"
      },
      "source": [
        "**Reasoning**:\n",
        "Insert sample data into the borrowed_books table, ensuring the foreign key constraints are satisfied by using existing patron_id and book_id values, and then commit the changes.\n",
        "\n"
      ]
    },
    {
      "cell_type": "code",
      "metadata": {
        "id": "3935bd54"
      },
      "source": [
        "cursor.execute(\"INSERT INTO borrowed_books (patron_id, book_id, borrow_date) VALUES (1, 1, '2023-10-26')\")\n",
        "cursor.execute(\"INSERT INTO borrowed_books (patron_id, book_id, borrow_date) VALUES (2, 2, '2023-10-26')\")\n",
        "cursor.execute(\"INSERT INTO borrowed_books (patron_id, book_id, borrow_date) VALUES (1, 2, '2023-10-27')\")\n",
        "\n",
        "conn.commit()"
      ],
      "execution_count": null,
      "outputs": []
    },
    {
      "cell_type": "markdown",
      "metadata": {
        "id": "aff2a0db"
      },
      "source": [
        "## Query data\n",
        "\n",
        "### Subtask:\n",
        "Write and execute SQL queries to demonstrate the relationships between the tables, for example, listing which books a specific patron has borrowed.\n"
      ]
    },
    {
      "cell_type": "markdown",
      "metadata": {
        "id": "e9fae89f"
      },
      "source": [
        "**Reasoning**:\n",
        "Write and execute a SQL query to join the tables and list borrowed books, then fetch and display the results.\n",
        "\n"
      ]
    },
    {
      "cell_type": "code",
      "metadata": {
        "colab": {
          "base_uri": "https://localhost:8080/",
          "height": 259
        },
        "id": "ee5f4d10",
        "outputId": "95695679-1895-4805-c4c8-db5e54f99c33"
      },
      "source": [
        "cursor.execute('''\n",
        "SELECT\n",
        "    p.name AS patron_name,\n",
        "    b.title AS book_title,\n",
        "    bb.borrow_date\n",
        "FROM\n",
        "    borrowed_books bb\n",
        "JOIN\n",
        "    patrons p ON bb.patron_id = p.patron_id\n",
        "JOIN\n",
        "    books b ON bb.book_id = b.book_id\n",
        "''')\n",
        "\n",
        "borrowed_books_data = cursor.fetchall()\n",
        "\n",
        "for row in borrowed_books_data:\n",
        "    print(row)"
      ],
      "execution_count": 15,
      "outputs": [
        {
          "output_type": "error",
          "ename": "OperationalError",
          "evalue": "no such table: borrowed_books",
          "traceback": [
            "\u001b[0;31m---------------------------------------------------------------------------\u001b[0m",
            "\u001b[0;31mOperationalError\u001b[0m                          Traceback (most recent call last)",
            "\u001b[0;32m/tmp/ipython-input-2408826553.py\u001b[0m in \u001b[0;36m<cell line: 0>\u001b[0;34m()\u001b[0m\n\u001b[0;32m----> 1\u001b[0;31m cursor.execute('''\n\u001b[0m\u001b[1;32m      2\u001b[0m \u001b[0mSELECT\u001b[0m\u001b[0;34m\u001b[0m\u001b[0;34m\u001b[0m\u001b[0m\n\u001b[1;32m      3\u001b[0m     \u001b[0mp\u001b[0m\u001b[0;34m.\u001b[0m\u001b[0mname\u001b[0m \u001b[0mAS\u001b[0m \u001b[0mpatron_name\u001b[0m\u001b[0;34m,\u001b[0m\u001b[0;34m\u001b[0m\u001b[0;34m\u001b[0m\u001b[0m\n\u001b[1;32m      4\u001b[0m     \u001b[0mb\u001b[0m\u001b[0;34m.\u001b[0m\u001b[0mtitle\u001b[0m \u001b[0mAS\u001b[0m \u001b[0mbook_title\u001b[0m\u001b[0;34m,\u001b[0m\u001b[0;34m\u001b[0m\u001b[0;34m\u001b[0m\u001b[0m\n\u001b[1;32m      5\u001b[0m     \u001b[0mbb\u001b[0m\u001b[0;34m.\u001b[0m\u001b[0mborrow_date\u001b[0m\u001b[0;34m\u001b[0m\u001b[0;34m\u001b[0m\u001b[0m\n",
            "\u001b[0;31mOperationalError\u001b[0m: no such table: borrowed_books"
          ]
        }
      ]
    },
    {
      "cell_type": "markdown",
      "metadata": {
        "id": "1a7ed3ec"
      },
      "source": [
        "## Close connection\n",
        "\n",
        "### Subtask:\n",
        "Close the database connection.\n"
      ]
    },
    {
      "cell_type": "markdown",
      "metadata": {
        "id": "6faeea67"
      },
      "source": [
        "**Reasoning**:\n",
        "Call the close method on the database connection object to close the connection.\n",
        "\n"
      ]
    },
    {
      "cell_type": "code",
      "metadata": {
        "id": "fcea0794"
      },
      "source": [
        "conn.close()"
      ],
      "execution_count": null,
      "outputs": []
    },
    {
      "cell_type": "markdown",
      "metadata": {
        "id": "e085aba9"
      },
      "source": [
        "## Summary:\n",
        "\n",
        "### Data Analysis Key Findings\n",
        "\n",
        "*   A SQLite database named `library.db` was created and connected to using Python's `sqlite3` library in Google Colab.\n",
        "*   Three tables were successfully created within the database: `patrons`, `books`, and `borrowed_books`.\n",
        "*   The `borrowed_books` table was designed with foreign key constraints linking `patron_id` to the `patrons` table and `book_id` to the `books` table.\n",
        "*   Sample data was inserted into all three tables.\n",
        "*   An SQL query using `JOIN` clauses successfully retrieved and displayed the patron name, book title, and borrow date for all entries in the `borrowed_books` table, demonstrating the relationships between the tables.\n",
        "\n",
        "### Insights or Next Steps\n",
        "\n",
        "*   The process effectively demonstrates how to perform basic database operations (connect, create tables, insert data, query) using SQL within a Colab environment.\n",
        "*   Further steps could involve adding more complex queries (e.g., finding books borrowed by a specific patron, counting borrowed books), adding return dates to the `borrowed_books` table, or implementing error handling for database operations.\n"
      ]
    },
    {
      "cell_type": "markdown",
      "source": [
        "ETL"
      ],
      "metadata": {
        "id": "b0UyH2BJKa1r"
      }
    },
    {
      "cell_type": "markdown",
      "metadata": {
        "id": "52ac76b9"
      },
      "source": [
        "# Understanding the ETL Model\n",
        "\n",
        "When working with data, especially from different sources, you'll often hear about **ETL**. ETL stands for:\n",
        "\n",
        "*   **Extract:** Getting data from its source (like files, other databases, or APIs).\n",
        "*   **Transform:** Cleaning, processing, and changing the data into the format you need.\n",
        "*   **Load:** Putting the transformed data into its destination (like our SQLite database).\n",
        "\n",
        "Think of it like preparing ingredients for a meal:\n",
        "\n",
        "*   **Extract:** You get the ingredients from the grocery store (the source).\n",
        "*   **Transform:** You wash, chop, and season the ingredients (cleaning and processing).\n",
        "*   **Load:** You put the prepared ingredients into the pot to cook (the destination).\n",
        "\n",
        "In our library example, we've already done a simple form of ETL:\n",
        "\n",
        "*   **Extract:** We're getting data from our Python code's lists and dictionaries.\n",
        "*   **Transform:** We're not doing much complex transformation here, but you might imagine converting dates to a specific format or cleaning up messy text.\n",
        "*   **Load:** We're loading the data into our SQLite database tables.\n",
        "\n",
        "ETL is a crucial process for data analysis and warehousing, ensuring data is ready for querying and reporting."
      ]
    }
  ]
}